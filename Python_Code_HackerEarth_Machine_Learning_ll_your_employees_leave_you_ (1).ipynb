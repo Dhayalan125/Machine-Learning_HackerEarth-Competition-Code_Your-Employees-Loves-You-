{
  "nbformat": 4,
  "nbformat_minor": 0,
  "metadata": {
    "colab": {
      "name": "Python Code - HackerEarth Machine Learning ...ll your employees leave you?",
      "provenance": [],
      "collapsed_sections": [],
      "toc_visible": true
    },
    "kernelspec": {
      "name": "python3",
      "display_name": "Python 3"
    }
  },
  "cells": [
    {
      "cell_type": "code",
      "metadata": {
        "id": "12cUwznE1nTT",
        "colab_type": "code",
        "colab": {}
      },
      "source": [
        "import numpy as np\n",
        "import matplotlib.pyplot as plt\n",
        "import pandas as pd\n",
        "import math"
      ],
      "execution_count": 0,
      "outputs": []
    },
    {
      "cell_type": "code",
      "metadata": {
        "id": "0sLqz9Cy1ycc",
        "colab_type": "code",
        "colab": {}
      },
      "source": [
        "dataset = pd.read_csv('Train.csv')\n",
        "test_dataset = pd.read_csv('Test.csv')\n",
        "\n",
        "dataset['Gender'] = dataset['Gender'].str.strip()\n",
        "dataset['Relationship_Status'] = dataset['Relationship_Status'].str.strip()\n",
        "dataset['Unit'] = dataset['Unit'].str.strip()"
      ],
      "execution_count": 0,
      "outputs": []
    },
    {
      "cell_type": "code",
      "metadata": {
        "id": "cd-3YiOR1-55",
        "colab_type": "code",
        "colab": {}
      },
      "source": [
        "dataset = dataset.loc[dataset.Pay_Scale.notna(), [\"Employee_ID\", \"Gender\", \"Age\", \"Relationship_Status\", \"Unit\", \"growth_rate\", \"Post_Level\", \"Work_Life_balance\", \"Time_since_promotion\", \"Attrition_rate\"]]"
      ],
      "execution_count": 0,
      "outputs": []
    },
    {
      "cell_type": "code",
      "metadata": {
        "id": "m2X7WWY-RErd",
        "colab_type": "code",
        "colab": {}
      },
      "source": [
        "test_dataset = test_dataset.loc[test_dataset.Pay_Scale.notna(), [\"Employee_ID\", \"Gender\", \"Age\", \"Relationship_Status\", \"Unit\", \"growth_rate\", \"Post_Level\", \"Work_Life_balance\", \"Time_since_promotion\"]]"
      ],
      "execution_count": 0,
      "outputs": []
    },
    {
      "cell_type": "code",
      "metadata": {
        "id": "1VBlZ1i-3kRv",
        "colab_type": "code",
        "colab": {}
      },
      "source": [
        "dataset[\"Employee_ID\"] = dataset[\"Employee_ID\"].replace(to_replace=r'EID_', value='', regex=True)\n",
        "test_dataset[\"Employee_ID\"] = test_dataset[\"Employee_ID\"].replace(to_replace=r'EID_', value='', regex=True)\n",
        "\n",
        "dataset_Age = math.floor(dataset.Age.median())\n",
        "dataset.Age = dataset.Age.fillna(dataset_Age)\n",
        "\n",
        "dataset_wlb = math.floor(dataset.Work_Life_balance .median())\n",
        "dataset.Work_Life_balance  = dataset.Work_Life_balance .fillna(dataset_wlb)\n",
        "\n",
        "test_dataset_Age = math.floor(test_dataset.Age.median())\n",
        "test_dataset.Age = test_dataset.Age.fillna(test_dataset_Age)\n",
        "\n",
        "test_dataset_wlb = math.floor(test_dataset.Work_Life_balance .median())\n",
        "test_dataset.Work_Life_balance  = test_dataset.Work_Life_balance .fillna(test_dataset_wlb)\n",
        "\n",
        "from sklearn.preprocessing import LabelEncoder\n",
        "le = LabelEncoder()\n",
        "dataset[\"Gender\"] = le.fit_transform(dataset[\"Gender\"])\n",
        "dataset[\"Relationship_Status\"] = le.fit_transform(dataset[\"Relationship_Status\"])\n",
        "dataset[\"Unit\"] = le.fit_transform(dataset[\"Unit\"])\n",
        "\n",
        "test_dataset[\"Gender\"] = le.fit_transform(test_dataset[\"Gender\"])\n",
        "test_dataset[\"Relationship_Status\"] = le.fit_transform(test_dataset[\"Relationship_Status\"])\n",
        "test_dataset[\"Unit\"] = le.fit_transform(test_dataset[\"Unit\"])"
      ],
      "execution_count": 0,
      "outputs": []
    },
    {
      "cell_type": "code",
      "metadata": {
        "id": "-it7Cy3T9Bl6",
        "colab_type": "code",
        "colab": {}
      },
      "source": [
        "X = dataset.drop(\"Attrition_rate\", axis = 1)\n",
        "y = dataset[\"Attrition_rate\"]"
      ],
      "execution_count": 0,
      "outputs": []
    },
    {
      "cell_type": "code",
      "metadata": {
        "id": "qdc3xaHc9zsl",
        "colab_type": "code",
        "colab": {}
      },
      "source": [
        "from sklearn.model_selection import train_test_split\n",
        "X_train, X_val, y_train, y_val = train_test_split(X, y, test_size = 0.3, random_state = 0)\n"
      ],
      "execution_count": 0,
      "outputs": []
    },
    {
      "cell_type": "code",
      "metadata": {
        "id": "nqhP5knp_y4_",
        "colab_type": "code",
        "outputId": "a13efcf0-410a-485a-8d12-0502c0ace885",
        "colab": {
          "base_uri": "https://localhost:8080/",
          "height": 121
        }
      },
      "source": [
        "from sklearn.tree import DecisionTreeRegressor\n",
        "regressor = DecisionTreeRegressor(random_state = 0)\n",
        "regressor.fit(X, y)"
      ],
      "execution_count": 21,
      "outputs": [
        {
          "output_type": "execute_result",
          "data": {
            "text/plain": [
              "DecisionTreeRegressor(ccp_alpha=0.0, criterion='mse', max_depth=None,\n",
              "                      max_features=None, max_leaf_nodes=None,\n",
              "                      min_impurity_decrease=0.0, min_impurity_split=None,\n",
              "                      min_samples_leaf=1, min_samples_split=2,\n",
              "                      min_weight_fraction_leaf=0.0, presort='deprecated',\n",
              "                      random_state=0, splitter='best')"
            ]
          },
          "metadata": {
            "tags": []
          },
          "execution_count": 21
        }
      ]
    },
    {
      "cell_type": "code",
      "metadata": {
        "id": "FxsJvjwg_yuZ",
        "colab_type": "code",
        "colab": {}
      },
      "source": [
        "y_pred = regressor.predict(X_val)"
      ],
      "execution_count": 0,
      "outputs": []
    },
    {
      "cell_type": "code",
      "metadata": {
        "id": "qXIgmvH7AGqP",
        "colab_type": "code",
        "outputId": "6ae1a834-1a4e-42fb-8c7f-dd29ca396f0a",
        "colab": {
          "base_uri": "https://localhost:8080/",
          "height": 35
        }
      },
      "source": [
        "from sklearn.metrics import r2_score\n",
        "print(r2_score(y_val, y_pred))"
      ],
      "execution_count": 23,
      "outputs": [
        {
          "output_type": "stream",
          "text": [
            "0.9999999762545807\n"
          ],
          "name": "stdout"
        }
      ]
    },
    {
      "cell_type": "code",
      "metadata": {
        "id": "j06OvUGjIoxz",
        "colab_type": "code",
        "outputId": "e1f364eb-8d29-4b21-b311-0cbaf94487a6",
        "colab": {
          "base_uri": "https://localhost:8080/",
          "height": 35
        }
      },
      "source": [
        "y_pred2 = regressor.predict(test_dataset)\n",
        "print(y_pred2)"
      ],
      "execution_count": 24,
      "outputs": [
        {
          "output_type": "stream",
          "text": [
            "[0.3753 0.6526 0.0204 ... 0.1539 0.0587 0.1255]\n"
          ],
          "name": "stdout"
        }
      ]
    }
  ]
}